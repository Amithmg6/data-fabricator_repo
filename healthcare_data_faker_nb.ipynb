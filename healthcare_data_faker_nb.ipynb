{
 "cells": [
  {
   "cell_type": "markdown",
   "id": "06b728f2",
   "metadata": {},
   "source": []
  },
  {
   "cell_type": "markdown",
   "id": "d48ff03f",
   "metadata": {},
   "source": [
    "### Patient Medical Records 🩺\n",
    "\n",
    "* This script generates basic patient records with realistic information for fields like patient ID, age, and gender. It then uses a simple rule-based approach to link symptoms and diagnoses, something Faker can't do on its own."
   ]
  },
  {
   "cell_type": "code",
   "execution_count": 1,
   "id": "584a4e87",
   "metadata": {},
   "outputs": [],
   "source": [
    "from faker import Faker\n",
    "import random\n",
    "import json"
   ]
  },
  {
   "cell_type": "code",
   "execution_count": 2,
   "id": "829401a9",
   "metadata": {},
   "outputs": [],
   "source": [
    "\n",
    "def generate_patient_records(num_records=500):\n",
    "    \"\"\"\n",
    "    Generates a list of dictionaries representing simplified patient medical records.\n",
    "    \"\"\"\n",
    "    fake = Faker('en_IN')\n",
    "    records = []\n",
    "    \n",
    "    # Define a simple mapping of symptoms to diagnoses\n",
    "    medical_conditions = {\n",
    "        \"High Fever\": \"Influenza\",\n",
    "        \"Persistent Cough\": \"Bronchitis\",\n",
    "        \"Chest Pain\": \"Angina\",\n",
    "        \"Headache\": \"Migraine\",\n",
    "        \"Abdominal Pain\": \"Gastritis\"\n",
    "    }\n",
    "    \n",
    "    symptoms = list(medical_conditions.keys())\n",
    "\n",
    "    for _ in range(num_records):\n",
    "        # Generate a random symptom and find its corresponding diagnosis\n",
    "        symptom = random.choice(symptoms)\n",
    "        diagnosis = medical_conditions[symptom]\n",
    "        \n",
    "        record = {\n",
    "            \"patient_id\": fake.unique.uuid4(),\n",
    "            \"age\": random.randint(1, 90),\n",
    "            \"gender\": random.choice(['Male', 'Female', 'Other']),\n",
    "            \"symptom\": symptom,\n",
    "            \"diagnosis\": diagnosis,\n",
    "            \"medications\": [fake.word() for _ in range(random.randint(1, 3))], # Fake medication names\n",
    "            \"test_results\": {\n",
    "                \"blood_pressure\": f\"{random.randint(90, 140)}/{random.randint(60, 90)}\",\n",
    "                \"blood_sugar\": random.randint(70, 180)\n",
    "            }\n",
    "        }\n",
    "        records.append(record)\n",
    "    \n",
    "    return records\n"
   ]
  },
  {
   "cell_type": "code",
   "execution_count": 3,
   "id": "fe95f22c",
   "metadata": {},
   "outputs": [
    {
     "name": "stdout",
     "output_type": "stream",
     "text": [
      "Generated 500 patient records.\n"
     ]
    }
   ],
   "source": [
    "\n",
    "patient_data = generate_patient_records()\n",
    "print(f\"Generated {len(patient_data)} patient records.\")"
   ]
  },
  {
   "cell_type": "code",
   "execution_count": 6,
   "id": "5c853dc5",
   "metadata": {},
   "outputs": [],
   "source": [
    "\n",
    "\n",
    "# Assuming 'mock_data' is your list of dictionaries\n",
    "with open('patient_data.json', 'w') as f:\n",
    "    json.dump(patient_data, f, indent=4, cls=CustomJSONEncoder)# Save the mock data to a JSON file"
   ]
  },
  {
   "cell_type": "code",
   "execution_count": null,
   "id": "25f19496",
   "metadata": {},
   "outputs": [],
   "source": []
  }
 ],
 "metadata": {
  "kernelspec": {
   "display_name": "torch_env",
   "language": "python",
   "name": "python3"
  },
  "language_info": {
   "codemirror_mode": {
    "name": "ipython",
    "version": 3
   },
   "file_extension": ".py",
   "mimetype": "text/x-python",
   "name": "python",
   "nbconvert_exporter": "python",
   "pygments_lexer": "ipython3",
   "version": "3.12.9"
  }
 },
 "nbformat": 4,
 "nbformat_minor": 5
}
