{
 "cells": [
  {
   "cell_type": "markdown",
   "id": "b7aecfb5",
   "metadata": {},
   "source": []
  },
  {
   "cell_type": "markdown",
   "id": "542f8b57",
   "metadata": {},
   "source": []
  },
  {
   "cell_type": "markdown",
   "id": "9bf615ff",
   "metadata": {},
   "source": []
  },
  {
   "cell_type": "code",
   "execution_count": 1,
   "id": "fb365c87",
   "metadata": {},
   "outputs": [
    {
     "name": "stdout",
     "output_type": "stream",
     "text": [
      "Collecting Faker\n",
      "  Downloading faker-37.5.3-py3-none-any.whl.metadata (15 kB)\n",
      "Requirement already satisfied: tzdata in c:\\users\\amith\\anaconda3\\envs\\torch_env\\lib\\site-packages (from Faker) (2025.2)\n",
      "Downloading faker-37.5.3-py3-none-any.whl (1.9 MB)\n",
      "   ---------------------------------------- 0.0/1.9 MB ? eta -:--:--\n",
      "   ----- ---------------------------------- 0.3/1.9 MB ? eta -:--:--\n",
      "   ---------- ----------------------------- 0.5/1.9 MB 1.5 MB/s eta 0:00:01\n",
      "   ---------------- ----------------------- 0.8/1.9 MB 1.5 MB/s eta 0:00:01\n",
      "   --------------------- ------------------ 1.0/1.9 MB 1.5 MB/s eta 0:00:01\n",
      "   -------------------------------- ------- 1.6/1.9 MB 1.5 MB/s eta 0:00:01\n",
      "   ---------------------------------------- 1.9/1.9 MB 1.6 MB/s eta 0:00:00\n",
      "Installing collected packages: Faker\n",
      "Successfully installed Faker-37.5.3\n"
     ]
    }
   ],
   "source": [
    "! pip install Faker"
   ]
  },
  {
   "cell_type": "code",
   "execution_count": null,
   "id": "5f026f0d",
   "metadata": {},
   "outputs": [],
   "source": []
  },
  {
   "cell_type": "code",
   "execution_count": 2,
   "id": "02427769",
   "metadata": {},
   "outputs": [],
   "source": [
    "from faker import Faker\n",
    "import random\n",
    "import os"
   ]
  },
  {
   "cell_type": "code",
   "execution_count": 7,
   "id": "bc1caf44",
   "metadata": {},
   "outputs": [],
   "source": [
    "\n",
    "def generate_mock_documents(num_documents=10):\n",
    "    \"\"\"\n",
    "    Generates a list of mock documents with fake data.\n",
    "\n",
    "    Args:\n",
    "        num_documents (int): The number of documents to generate.\n",
    "\n",
    "    Returns:\n",
    "        list: A list of dictionaries, where each dictionary is a mock document.\n",
    "    \"\"\"\n",
    "    fake = Faker() ## en_IN for india region\n",
    "    documents = []\n",
    "\n",
    "    for _ in range(num_documents):\n",
    "        document = {\n",
    "            \"title\": fake.catch_phrase(),\n",
    "            \"author\": fake.name(),\n",
    "            \"year\": random.randint(2000, 2025),\n",
    "            \"content\": fake.text(max_nb_chars=300) # Generates a text of up to 300 characters\n",
    "        }\n",
    "        documents.append(document)\n",
    "\n",
    "    return documents\n"
   ]
  },
  {
   "cell_type": "code",
   "execution_count": 12,
   "id": "b1da367b",
   "metadata": {},
   "outputs": [
    {
     "name": "stdout",
     "output_type": "stream",
     "text": [
      "{'author': 'Travis Reed',\n",
      " 'content': 'Loss our can important anything risk glass. Home before '\n",
      "            'difference ten collection source world.\\n'\n",
      "            'Skin tough laugh success necessary. Forget with news night number '\n",
      "            'beyond seat. Clearly stay back many week.',\n",
      " 'title': 'Persistent heuristic Graphic Interface',\n",
      " 'year': 2019}\n",
      "\n",
      "Generated 50000 mock documents.\n"
     ]
    }
   ],
   "source": [
    "\n",
    "# Generate 10 mock documents\n",
    "mock_data = generate_mock_documents(num_documents=50000)\n",
    "\n",
    "# Print the first document to verify the structure\n",
    "import pprint\n",
    "pprint.pprint(mock_data[0])\n",
    "\n",
    "# Print the total number of documents generated\n",
    "print(f\"\\nGenerated {len(mock_data)} mock documents.\")"
   ]
  },
  {
   "cell_type": "markdown",
   "id": "f5c69b45",
   "metadata": {},
   "source": [
    "saving the mock data"
   ]
  },
  {
   "cell_type": "code",
   "execution_count": 13,
   "id": "df65e9d2",
   "metadata": {},
   "outputs": [],
   "source": [
    "import json\n",
    "\n",
    "# Assuming 'mock_data' is your list of dictionaries\n",
    "with open('mock_documents.json', 'w') as f:\n",
    "    json.dump(mock_data, f, indent=4)# Save the mock data to a JSON file"
   ]
  },
  {
   "cell_type": "code",
   "execution_count": null,
   "id": "0d8bb65b",
   "metadata": {},
   "outputs": [],
   "source": []
  }
 ],
 "metadata": {
  "kernelspec": {
   "display_name": "torch_env",
   "language": "python",
   "name": "python3"
  },
  "language_info": {
   "codemirror_mode": {
    "name": "ipython",
    "version": 3
   },
   "file_extension": ".py",
   "mimetype": "text/x-python",
   "name": "python",
   "nbconvert_exporter": "python",
   "pygments_lexer": "ipython3",
   "version": "3.12.9"
  }
 },
 "nbformat": 4,
 "nbformat_minor": 5
}
