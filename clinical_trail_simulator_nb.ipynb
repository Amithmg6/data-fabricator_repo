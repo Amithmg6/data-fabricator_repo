{
 "cells": [
  {
   "cell_type": "markdown",
   "id": "7e340f1f",
   "metadata": {},
   "source": []
  },
  {
   "cell_type": "markdown",
   "id": "dacca8ec",
   "metadata": {},
   "source": [
    "## Clinical Trial Simulation 💊\n",
    "\n",
    "* This script simulates a clinical trial dataset with a treatment group and a control group. It fabricates patient outcomes and tracks them to provide a basic dataset for analysis.\n"
   ]
  },
  {
   "cell_type": "code",
   "execution_count": 1,
   "id": "f8a80ab7",
   "metadata": {},
   "outputs": [],
   "source": [
    "from faker import Faker\n",
    "import random\n",
    "import json"
   ]
  },
  {
   "cell_type": "code",
   "execution_count": 2,
   "id": "6d4cdd1b",
   "metadata": {},
   "outputs": [],
   "source": [
    "\n",
    "\n",
    "def generate_clinical_trial_data(num_patients=200):\n",
    "    \"\"\"\n",
    "    Generates a list of dictionaries representing clinical trial data.\n",
    "    \"\"\"\n",
    "    fake = Faker('en_IN')\n",
    "    records = []\n",
    "\n",
    "    for _ in range(num_patients):\n",
    "        patient_id = fake.unique.uuid4()\n",
    "        group = random.choice(['Treatment', 'Control'])\n",
    "        \n",
    "        # Simulate an outcome based on the group\n",
    "        if group == 'Treatment':\n",
    "            # Higher chance of positive outcome for treatment group\n",
    "            outcome = random.choices(['Improved', 'Stable', 'Worsened'], weights=[0.7, 0.2, 0.1], k=1)[0]\n",
    "        else:\n",
    "            # Lower chance of positive outcome for control group\n",
    "            outcome = random.choices(['Improved', 'Stable', 'Worsened'], weights=[0.3, 0.5, 0.2], k=1)[0]\n",
    "        \n",
    "        record = {\n",
    "            \"trial_id\": \"TRIAL-12345\",\n",
    "            \"patient_id\": patient_id,\n",
    "            \"group\": group,\n",
    "            \"start_date\": fake.date_this_year(),\n",
    "            \"end_date\": fake.date_between(start_date='-60d', end_date='today'),\n",
    "            \"outcome\": outcome,\n",
    "            \"age\": random.randint(18, 75)\n",
    "        }\n",
    "        records.append(record)\n",
    "    \n",
    "    return records\n"
   ]
  },
  {
   "cell_type": "code",
   "execution_count": 7,
   "id": "a22acc71",
   "metadata": {},
   "outputs": [
    {
     "name": "stdout",
     "output_type": "stream",
     "text": [
      "Generated 200 clinical trial records.\n"
     ]
    }
   ],
   "source": [
    "trial_data = generate_clinical_trial_data()\n",
    "print(f\"Generated {len(trial_data)} clinical trial records.\")"
   ]
  },
  {
   "cell_type": "code",
   "execution_count": 10,
   "id": "07a5fc07",
   "metadata": {},
   "outputs": [],
   "source": [
    "import json\n",
    "from datetime import date\n",
    "\n",
    "class CustomJSONEncoder(json.JSONEncoder):\n",
    "    \"\"\"\n",
    "    A custom JSON encoder that can handle date and datetime objects.\n",
    "    \"\"\"\n",
    "    def default(self, o):\n",
    "        if isinstance(o, (date)):\n",
    "            return o.isoformat() # Converts date to a string like '2024-05-20'\n",
    "        return super().default(o)"
   ]
  },
  {
   "cell_type": "code",
   "execution_count": 11,
   "id": "6fb92ef6",
   "metadata": {},
   "outputs": [],
   "source": [
    "\n",
    "# Assuming 'mock_data' is your list of dictionaries\n",
    "\n",
    "with open('clinical_trail.json', 'w') as f:\n",
    "    json.dump(trial_data, f, indent=4, cls=CustomJSONEncoder)\n"
   ]
  },
  {
   "cell_type": "code",
   "execution_count": null,
   "id": "522f285f",
   "metadata": {},
   "outputs": [],
   "source": []
  }
 ],
 "metadata": {
  "kernelspec": {
   "display_name": "torch_env",
   "language": "python",
   "name": "python3"
  },
  "language_info": {
   "codemirror_mode": {
    "name": "ipython",
    "version": 3
   },
   "file_extension": ".py",
   "mimetype": "text/x-python",
   "name": "python",
   "nbconvert_exporter": "python",
   "pygments_lexer": "ipython3",
   "version": "3.12.9"
  }
 },
 "nbformat": 4,
 "nbformat_minor": 5
}
